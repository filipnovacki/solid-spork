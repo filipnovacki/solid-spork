{
 "cells": [
  {
   "cell_type": "code",
   "execution_count": 1,
   "metadata": {},
   "outputs": [],
   "source": [
    "import ZODB, ZODB.FileStorage\n",
    "import persistent\n",
    "from BTrees.OOBTree import TreeSet, OOBTree\n",
    "import transaction\n",
    "from word_anal import define"
   ]
  },
  {
   "cell_type": "code",
   "execution_count": 2,
   "metadata": {},
   "outputs": [
    {
     "name": "stderr",
     "output_type": "stream",
     "text": [
      "Ignoring index for /home/fn/Projects/solid-spork/db/database.fs\n"
     ]
    }
   ],
   "source": [
    "storage = ZODB.FileStorage.FileStorage('database.fs')\n",
    "db = ZODB.DB(storage)\n",
    "conn = db.open()\n",
    "root = conn.root()"
   ]
  },
  {
   "cell_type": "code",
   "execution_count": null,
   "metadata": {},
   "outputs": [],
   "source": []
  },
  {
   "cell_type": "code",
   "execution_count": 3,
   "metadata": {},
   "outputs": [],
   "source": [
    "class Dictionary(persistent.Persistent):\n",
    "    def __init__(self, title):\n",
    "        self.title = title\n",
    "        self.words = OOBTree()\n",
    "    \n",
    "    def add_word(self, word):\n",
    "        self.words.update({word:Word(word)})\n",
    "        \n",
    "    def __repr__(self):\n",
    "        return self.title"
   ]
  },
  {
   "cell_type": "code",
   "execution_count": 79,
   "metadata": {},
   "outputs": [],
   "source": [
    "class Word(persistent.Persistent):\n",
    "    def __init__(self, name):\n",
    "        self.name = name\n",
    "        self.not_defined = None\n",
    "        \n",
    "        # list of different pronunciations\n",
    "        self.pronunciation = persistent.list.PersistentList()\n",
    "        \n",
    "        # synonyms and their exlpanations\n",
    "        self.syns = OOBTree()\n",
    "        \n",
    "        if self.analyse() == 0:\n",
    "            self.not_defined = True\n",
    "        else:\n",
    "            self.not_defined = False\n",
    "        \n",
    "    def analyse(self):\n",
    "        a = define(self.name)\n",
    "        if a == None:\n",
    "            return 0\n",
    "        self.pronunciation = a['pronunciation']\n",
    "        self.syns = OOBTree(a['syns'])\n",
    "    \n",
    "    def __repr__(self):\n",
    "        if self.not_defined == True:\n",
    "            return self.name\n",
    "        elif self.not_defined == False:\n",
    "            # return the word and its synonyms\n",
    "            return str(self.name + ': ' + ', '.join(set([g.split('.')[0] for g in self.syns.keys()])))\n",
    "        else:\n",
    "            return self.name + ' (analysis not yet run)'\n",
    "        \n",
    "    def __eq__(self, other):\n",
    "        if self.name == other.name:\n",
    "            return True\n",
    "        else return False"
   ]
  },
  {
   "cell_type": "code",
   "execution_count": 80,
   "metadata": {},
   "outputs": [],
   "source": [
    "dictio = Dictionary('naziv')"
   ]
  },
  {
   "cell_type": "code",
   "execution_count": 81,
   "metadata": {},
   "outputs": [],
   "source": [
    "dictio.add_word('human')"
   ]
  },
  {
   "cell_type": "code",
   "execution_count": 82,
   "metadata": {},
   "outputs": [],
   "source": [
    "dictio.add_word('bla')"
   ]
  },
  {
   "cell_type": "code",
   "execution_count": null,
   "metadata": {},
   "outputs": [],
   "source": []
  },
  {
   "cell_type": "code",
   "execution_count": 83,
   "metadata": {},
   "outputs": [
    {
     "data": {
      "text/plain": [
       "[bla, human: human, homo]"
      ]
     },
     "execution_count": 83,
     "metadata": {},
     "output_type": "execute_result"
    }
   ],
   "source": [
    "list(dictio.words.values('bla'))"
   ]
  },
  {
   "cell_type": "code",
   "execution_count": 77,
   "metadata": {},
   "outputs": [],
   "source": [
    "db.close()"
   ]
  },
  {
   "cell_type": "code",
   "execution_count": 78,
   "metadata": {},
   "outputs": [],
   "source": [
    "conn.close() "
   ]
  },
  {
   "cell_type": "code",
   "execution_count": 156,
   "metadata": {},
   "outputs": [],
   "source": []
  },
  {
   "cell_type": "code",
   "execution_count": null,
   "metadata": {},
   "outputs": [],
   "source": []
  },
  {
   "cell_type": "code",
   "execution_count": null,
   "metadata": {},
   "outputs": [],
   "source": []
  }
 ],
 "metadata": {
  "kernelspec": {
   "display_name": "Python 3",
   "language": "python",
   "name": "python3"
  },
  "language_info": {
   "codemirror_mode": {
    "name": "ipython",
    "version": 3
   },
   "file_extension": ".py",
   "mimetype": "text/x-python",
   "name": "python",
   "nbconvert_exporter": "python",
   "pygments_lexer": "ipython3",
   "version": "3.8.3"
  }
 },
 "nbformat": 4,
 "nbformat_minor": 2
}
